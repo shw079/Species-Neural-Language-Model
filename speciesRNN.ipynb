{
 "cells": [
  {
   "cell_type": "markdown",
   "metadata": {},
   "source": [
    "# Character level neural language model - bacterial species\n",
    "\n",
    "Suppose we isloate novel bacterial species from the human microbiome that are yet discovered and named, how do we name them so the names sound plausible or educated? To give them new names, we can get inspiration from exisiting names of bacterial species. I will use character level language model for bacterial species. The species are compiled from bacterial isolates of the human microbiome that I recently used in my paper."
   ]
  },
  {
   "cell_type": "code",
   "execution_count": 1,
   "metadata": {
    "collapsed": false
   },
   "outputs": [
    {
     "name": "stderr",
     "output_type": "stream",
     "text": [
      "Using TensorFlow backend.\n"
     ]
    }
   ],
   "source": [
    "import numpy as np\n",
    "from keras import Sequential\n",
    "from keras.layers import Dense, LSTM, TimeDistributed\n",
    "from keras.optimizers import Adam"
   ]
  },
  {
   "cell_type": "markdown",
   "metadata": {},
   "source": [
    "## Prepare data\n",
    "\n",
    "Let's take a look at the species data. I use @ as end-of-sentence token."
   ]
  },
  {
   "cell_type": "code",
   "execution_count": 2,
   "metadata": {
    "collapsed": false
   },
   "outputs": [
    {
     "name": "stdout",
     "output_type": "stream",
     "text": [
      "Number of species = 718\n",
      "Number of unique characters = 28\n",
      "Examples:\n"
     ]
    },
    {
     "data": {
      "text/plain": [
       "['bifidobacterium_longum@',\n",
       " 'escherichia_coli@',\n",
       " 'staphylococcus_aureus@',\n",
       " 'gardnerella_vaginalis@',\n",
       " 'mageeibacillus_indolicus@',\n",
       " 'cutibacterium_acnes@']"
      ]
     },
     "execution_count": 2,
     "metadata": {},
     "output_type": "execute_result"
    }
   ],
   "source": [
    "species = []\n",
    "with open(\"bacterial_species.txt\", \"r\") as h:\n",
    "    for line in h:\n",
    "        species.append(line.replace(\"\\n\", \"@\").lower())\n",
    "print(\"Number of species = {}\".format(len(species)))\n",
    "\n",
    "char_set = set()\n",
    "for i in species:\n",
    "    for j in i:\n",
    "        char_set.add(j)\n",
    "n_x = len(char_set)\n",
    "print(\"Number of unique characters = {}\".format(n_x))\n",
    "print(\"Examples:\")\n",
    "species[:6]"
   ]
  },
  {
   "cell_type": "markdown",
   "metadata": {},
   "source": [
    "We need mappings to convert between indices and characters."
   ]
  },
  {
   "cell_type": "code",
   "execution_count": 3,
   "metadata": {
    "collapsed": false
   },
   "outputs": [],
   "source": [
    "char_list = sorted(list(char_set))\n",
    "char_map = {i:c for c, i in enumerate(char_list)}\n",
    "\n",
    "def char2idx(char):\n",
    "    return char_map[char]\n",
    "\n",
    "def idx2char(idx):\n",
    "    return char_list[idx]"
   ]
  },
  {
   "cell_type": "markdown",
   "metadata": {},
   "source": [
    "Next, we convert indices to vectors with one-hot encoding. In theory, we don't need zero-padding if we process one sequence at a time. However, to use mini-batch gradient descent for multiple sequences, we use zero padding.\n",
    "\n",
    "Note that input sequence is the original species name, and output sequence is shifted to the right by 1, ending with end-of-sequence token @."
   ]
  },
  {
   "cell_type": "code",
   "execution_count": 4,
   "metadata": {
    "collapsed": false
   },
   "outputs": [
    {
     "name": "stdout",
     "output_type": "stream",
     "text": [
      "Maximum sequence length = 37\n",
      "Shape of training data = (718, 37, 28)\n"
     ]
    }
   ],
   "source": [
    "maxlen = max([len(i) - 1 for i in species])\n",
    "print(\"Maximum sequence length = {}\".format(maxlen))\n",
    "\n",
    "# one-hot encoding with zero padding\n",
    "X = np.zeros((len(species), maxlen, n_x))\n",
    "Y = np.zeros((len(species), maxlen, n_x))\n",
    "for i, chars in enumerate(species):\n",
    "    for t in range(len(chars) - 1):\n",
    "        X[i, t, char2idx(chars[t])] = 1\n",
    "        # label is shifted to the right\n",
    "        Y[i, t, char2idx(chars[t + 1])] = 1\n",
    "print(\"Shape of training data = {}\".format(X.shape))"
   ]
  },
  {
   "cell_type": "markdown",
   "metadata": {},
   "source": [
    "## Many-to-many sequence model\n",
    "\n",
    "I use RNN with LSTM cell for the character level language model. For each time point, the cell takes current character and previous hidden state as input, and outputs prediction for next word."
   ]
  },
  {
   "cell_type": "code",
   "execution_count": 5,
   "metadata": {
    "collapsed": false
   },
   "outputs": [],
   "source": [
    "model = Sequential()\n",
    "model.add(LSTM(100, input_shape=(None, n_x), return_sequences=True))\n",
    "model.add(TimeDistributed(Dense(n_x, activation=\"softmax\")))\n",
    "optimizer = Adam(lr=0.05, beta_1=0.9, beta_2=0.999, decay=0.01)\n",
    "\n",
    "model.compile(loss='categorical_crossentropy', optimizer=optimizer)"
   ]
  },
  {
   "cell_type": "markdown",
   "metadata": {},
   "source": [
    "I train the model with 101 epochs. To see how model improves over time, I not only report cross-entropy loss on the training set, but also generate a random species name based on the current model."
   ]
  },
  {
   "cell_type": "code",
   "execution_count": 6,
   "metadata": {
    "collapsed": false
   },
   "outputs": [
    {
     "name": "stdout",
     "output_type": "stream",
     "text": [
      "Epoch 0:\n",
      "Epoch 1/1\n",
      " - 1s - loss: 1.6246\n",
      "Randomly generated species name: hweopirum_serun\n",
      "\n",
      "Epoch 10:\n",
      "Epoch 1/1\n",
      " - 1s - loss: 0.5241\n",
      "Randomly generated species name: xaethia_melgae\n",
      "\n",
      "Epoch 20:\n",
      "Epoch 1/1\n",
      " - 1s - loss: 0.3405\n",
      "Randomly generated species name: fusobacterium_timas\n",
      "\n",
      "Epoch 30:\n",
      "Epoch 1/1\n",
      " - 1s - loss: 0.2519\n",
      "Randomly generated species name: oligella_ornichii\n",
      "\n",
      "Epoch 40:\n",
      "Epoch 1/1\n",
      " - 1s - loss: 0.2027\n",
      "Randomly generated species name: klebsiella_aerogenes\n",
      "\n",
      "Epoch 50:\n",
      "Epoch 1/1\n",
      " - 1s - loss: 0.1814\n",
      "Randomly generated species name: rovhoibacter_lepei\n",
      "\n",
      "Epoch 60:\n",
      "Epoch 1/1\n",
      " - 1s - loss: 0.1609\n",
      "Randomly generated species name: actinomyces_dentasseri\n",
      "\n",
      "Epoch 70:\n",
      "Epoch 1/1\n",
      " - 1s - loss: 0.1501\n",
      "Randomly generated species name: zaphomonas_odontolotihae\n",
      "\n",
      "Epoch 80:\n",
      "Epoch 1/1\n",
      " - 1s - loss: 0.1518\n",
      "Randomly generated species name: prevotella_shomensis\n",
      "\n",
      "Epoch 90:\n",
      "Epoch 1/1\n",
      " - 1s - loss: 0.1380\n",
      "Randomly generated species name: clostridium_gillveaseneens\n",
      "\n",
      "Epoch 100:\n",
      "Epoch 1/1\n",
      " - 1s - loss: 0.1387\n",
      "Randomly generated species name: peptoniphilus_lacrimalis\n",
      "\n"
     ]
    }
   ],
   "source": [
    "for epoch in range(101):\n",
    "    if epoch % 10 > 0:\n",
    "        model.fit(X, Y, batch_size=32, epochs=1, verbose=0)\n",
    "        continue\n",
    "    \n",
    "    print(\"Epoch {}:\".format(epoch))\n",
    "    model.fit(X, Y, batch_size=32, epochs=1, verbose=2)\n",
    "    generated = []\n",
    "    # randomly select the first letter\n",
    "    first_idx = np.random.randint(2, n_x)\n",
    "    x = np.zeros((1, 1, n_x))\n",
    "    x[:, :, first_idx] = 1\n",
    "    generated.append(idx2char(first_idx))\n",
    "    # generate sequence until reach end-of-sequence token\n",
    "    while True:\n",
    "        # predict distribution of next character\n",
    "        y_pred = model.predict(x, verbose=0)[0][-1]\n",
    "        # sample next character\n",
    "        idx_sampled = np.random.choice(n_x, size=1, p=y_pred)[0]\n",
    "        char = idx2char(idx_sampled)\n",
    "        if char == \"@\":\n",
    "            break\n",
    "        generated.append(char)\n",
    "        x_new = np.zeros((1, 1, n_x))\n",
    "        x_new[:, :, idx_sampled] = 1\n",
    "        x = np.concatenate((x, x_new), axis=1)\n",
    "    print(\"Randomly generated species name: {}\\n\".format(\"\".join(generated)))"
   ]
  },
  {
   "cell_type": "markdown",
   "metadata": {},
   "source": [
    "It is obvious that the first few epochs give less plausible name, while the last few epochs give realistic names!"
   ]
  },
  {
   "cell_type": "markdown",
   "metadata": {},
   "source": [
    "## Coming up with new species names\n",
    "\n",
    "Suppose we have isolated a novel Staphylococcus species, and we want to give it a new name. To get inspiration, we use the language model to sample few names."
   ]
  },
  {
   "cell_type": "code",
   "execution_count": 7,
   "metadata": {
    "collapsed": false
   },
   "outputs": [
    {
     "name": "stdout",
     "output_type": "stream",
     "text": [
      "10 synthesized Staphlococcus species:\n",
      "staphlococcus_petorim\n",
      "staphlococcus_hadrisienseriflavii\n",
      "staphlococcus_dutri\n",
      "staphlococcus_egerinolyticus\n",
      "staphlococcus_peroris\n",
      "staphlococcus_warneri\n",
      "staphlococcus_pseudoacacipa\n",
      "staphlococcus_derdolyticus\n",
      "staphlococcus_eungloifaci\n",
      "staphlococcus_sthuni\n"
     ]
    }
   ],
   "source": [
    "prefix = \"staphlococcus_\"\n",
    "staph = np.zeros((1, len(prefix), n_x))\n",
    "for t in range(len(prefix)):\n",
    "    staph[0, t, char2idx(prefix[t])] = 1\n",
    "\n",
    "# complete species name\n",
    "candidates = set()\n",
    "for _ in range(10):\n",
    "    x = staph.copy()\n",
    "    generated = []\n",
    "    while True:\n",
    "        y_pred = model.predict(x, verbose=0)[0][-1]\n",
    "        # sample next character\n",
    "        idx_sampled = np.random.choice(n_x, size=1, p=y_pred)[0]\n",
    "        char = idx2char(idx_sampled)\n",
    "        if char == \"@\":\n",
    "            break\n",
    "        generated.append(char)\n",
    "        x_new = np.zeros((1, 1, n_x))\n",
    "        x_new[:, :, idx_sampled] = 1\n",
    "        x = np.concatenate((x, x_new), axis=1)\n",
    "    candidates.add(prefix + \"\".join(generated))\n",
    "\n",
    "print(\"10 synthesized Staphlococcus species:\")\n",
    "for i in candidates:\n",
    "    print(i)"
   ]
  }
 ],
 "metadata": {
  "kernelspec": {
   "display_name": "Python 3",
   "language": "python",
   "name": "python3"
  },
  "language_info": {
   "codemirror_mode": {
    "name": "ipython",
    "version": 3
   },
   "file_extension": ".py",
   "mimetype": "text/x-python",
   "name": "python",
   "nbconvert_exporter": "python",
   "pygments_lexer": "ipython3",
   "version": "3.6.6"
  }
 },
 "nbformat": 4,
 "nbformat_minor": 2
}
